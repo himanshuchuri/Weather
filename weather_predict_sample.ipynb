{
 "cells": [
  {
   "cell_type": "code",
   "execution_count": 3,
   "metadata": {},
   "outputs": [],
   "source": [
    "import numpy as np\n",
    "import pandas as pd"
   ]
  },
  {
   "cell_type": "code",
   "execution_count": 9,
   "metadata": {},
   "outputs": [
    {
     "data": {
      "text/plain": [
       "(19287, 45)"
      ]
     },
     "execution_count": 9,
     "metadata": {},
     "output_type": "execute_result"
    }
   ],
   "source": [
    "weather_db = pd.read_csv(\"weather.txt\")\n",
    "weather_db.head()\n",
    "weather_db.shape"
   ]
  },
  {
   "cell_type": "code",
   "execution_count": 11,
   "metadata": {},
   "outputs": [
    {
     "data": {
      "text/plain": [
       "STATION    0.000000\n",
       "NAME       0.000000\n",
       "DATE       0.000000\n",
       "ACMH       0.501478\n",
       "ACSH       0.501426\n",
       "AWND       0.265256\n",
       "FMTM       0.475087\n",
       "PGTM       0.363872\n",
       "PRCP       0.000000\n",
       "SNOW       0.000000\n",
       "SNWD       0.000104\n",
       "TAVG       0.680406\n",
       "TMAX       0.000000\n",
       "TMIN       0.000000\n",
       "TSUN       0.998393\n",
       "WDF1       0.501685\n",
       "WDF2       0.498678\n",
       "WDF5       0.502981\n",
       "WDFG       0.734484\n",
       "WDFM       0.999948\n",
       "WESD       0.685228\n",
       "WSF1       0.501530\n",
       "WSF2       0.498678\n",
       "WSF5       0.503033\n",
       "WSFG       0.613055\n",
       "WSFM       0.999948\n",
       "WT01       0.630217\n",
       "WT02       0.935034\n",
       "WT03       0.933271\n",
       "WT04       0.982579\n",
       "WT05       0.981127\n",
       "WT06       0.990615\n",
       "WT07       0.994400\n",
       "WT08       0.796962\n",
       "WT09       0.992741\n",
       "WT11       0.999274\n",
       "WT13       0.886711\n",
       "WT14       0.954010\n",
       "WT15       0.997822\n",
       "WT16       0.658993\n",
       "WT17       0.996889\n",
       "WT18       0.939493\n",
       "WT21       0.999741\n",
       "WT22       0.997459\n",
       "WV01       0.999948\n",
       "dtype: float64"
      ]
     },
     "execution_count": 11,
     "metadata": {},
     "output_type": "execute_result"
    }
   ],
   "source": [
    "null_ptc = weather_db.apply(pd.isnull).sum()/weather_db.shape[0]\n",
    "null_ptc"
   ]
  },
  {
   "cell_type": "code",
   "execution_count": 12,
   "metadata": {},
   "outputs": [],
   "source": [
    "valid_columns = weather_db.columns[null_ptc<.05]"
   ]
  },
  {
   "cell_type": "code",
   "execution_count": 13,
   "metadata": {},
   "outputs": [
    {
     "data": {
      "text/plain": [
       "Index(['STATION', 'NAME', 'DATE', 'PRCP', 'SNOW', 'SNWD', 'TMAX', 'TMIN'], dtype='object')"
      ]
     },
     "execution_count": 13,
     "metadata": {},
     "output_type": "execute_result"
    }
   ],
   "source": [
    "valid_columns"
   ]
  },
  {
   "cell_type": "code",
   "execution_count": 14,
   "metadata": {},
   "outputs": [],
   "source": [
    "weather_db = weather_db[valid_columns].copy()"
   ]
  },
  {
   "cell_type": "code",
   "execution_count": 15,
   "metadata": {},
   "outputs": [],
   "source": [
    "weather_db.columns = weather_db.columns.str.lower()"
   ]
  },
  {
   "cell_type": "code",
   "execution_count": 16,
   "metadata": {},
   "outputs": [],
   "source": [
    "weather_db = weather_db.ffill()"
   ]
  },
  {
   "cell_type": "code",
   "execution_count": 17,
   "metadata": {},
   "outputs": [
    {
     "data": {
      "text/plain": [
       "station    0\n",
       "name       0\n",
       "date       0\n",
       "prcp       0\n",
       "snow       0\n",
       "snwd       0\n",
       "tmax       0\n",
       "tmin       0\n",
       "dtype: int64"
      ]
     },
     "execution_count": 17,
     "metadata": {},
     "output_type": "execute_result"
    }
   ],
   "source": [
    "weather_db.apply(pd.isnull).sum()"
   ]
  },
  {
   "cell_type": "code",
   "execution_count": 18,
   "metadata": {},
   "outputs": [
    {
     "data": {
      "text/plain": [
       "station     object\n",
       "name        object\n",
       "date        object\n",
       "prcp       float64\n",
       "snow       float64\n",
       "snwd       float64\n",
       "tmax         int64\n",
       "tmin         int64\n",
       "dtype: object"
      ]
     },
     "execution_count": 18,
     "metadata": {},
     "output_type": "execute_result"
    }
   ],
   "source": [
    "weather_db.dtypes"
   ]
  },
  {
   "cell_type": "code",
   "execution_count": 23,
   "metadata": {},
   "outputs": [],
   "source": [
    "weather_db.set_index('date',inplace=True)"
   ]
  },
  {
   "cell_type": "code",
   "execution_count": 24,
   "metadata": {},
   "outputs": [
    {
     "data": {
      "text/plain": [
       "Index(['1970-01-01', '1970-01-02', '1970-01-03', '1970-01-04', '1970-01-05',\n",
       "       '1970-01-06', '1970-01-07', '1970-01-08', '1970-01-09', '1970-01-10',\n",
       "       ...\n",
       "       '2022-10-12', '2022-10-13', '2022-10-14', '2022-10-15', '2022-10-16',\n",
       "       '2022-10-17', '2022-10-18', '2022-10-19', '2022-10-20', '2022-10-21'],\n",
       "      dtype='object', name='date', length=19287)"
      ]
     },
     "execution_count": 24,
     "metadata": {},
     "output_type": "execute_result"
    }
   ],
   "source": [
    "weather_db.index"
   ]
  },
  {
   "cell_type": "code",
   "execution_count": 25,
   "metadata": {},
   "outputs": [],
   "source": [
    "weather_db.index = pd.to_datetime(weather_db.index)"
   ]
  },
  {
   "cell_type": "code",
   "execution_count": 26,
   "metadata": {},
   "outputs": [
    {
     "data": {
      "text/plain": [
       "DatetimeIndex(['1970-01-01', '1970-01-02', '1970-01-03', '1970-01-04',\n",
       "               '1970-01-05', '1970-01-06', '1970-01-07', '1970-01-08',\n",
       "               '1970-01-09', '1970-01-10',\n",
       "               ...\n",
       "               '2022-10-12', '2022-10-13', '2022-10-14', '2022-10-15',\n",
       "               '2022-10-16', '2022-10-17', '2022-10-18', '2022-10-19',\n",
       "               '2022-10-20', '2022-10-21'],\n",
       "              dtype='datetime64[ns]', name='date', length=19287, freq=None)"
      ]
     },
     "execution_count": 26,
     "metadata": {},
     "output_type": "execute_result"
    }
   ],
   "source": [
    "weather_db.index"
   ]
  },
  {
   "cell_type": "code",
   "execution_count": null,
   "metadata": {},
   "outputs": [],
   "source": []
  }
 ],
 "metadata": {
  "kernelspec": {
   "display_name": "mlp",
   "language": "python",
   "name": "python3"
  },
  "language_info": {
   "codemirror_mode": {
    "name": "ipython",
    "version": 3
   },
   "file_extension": ".py",
   "mimetype": "text/x-python",
   "name": "python",
   "nbconvert_exporter": "python",
   "pygments_lexer": "ipython3",
   "version": "3.8.16"
  },
  "orig_nbformat": 4
 },
 "nbformat": 4,
 "nbformat_minor": 2
}
